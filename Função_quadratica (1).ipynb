{
  "nbformat": 4,
  "nbformat_minor": 0,
  "metadata": {
    "colab": {
      "name": "Função quadratica",
      "provenance": [],
      "collapsed_sections": []
    },
    "kernelspec": {
      "name": "python3",
      "display_name": "Python 3"
    },
    "language_info": {
      "name": "python"
    }
  },
  "cells": [
    {
      "cell_type": "code",
      "execution_count": 6,
      "metadata": {
        "colab": {
          "base_uri": "https://localhost:8080/",
          "height": 330
        },
        "id": "MzaL6oF4bqqi",
        "outputId": "138f95da-4123-4a43-f4de-2da0577df743"
      },
      "outputs": [
        {
          "output_type": "stream",
          "name": "stdout",
          "text": [
            "delta = 1\n"
          ]
        },
        {
          "output_type": "display_data",
          "data": {
            "text/plain": [
              "<Figure size 432x288 with 1 Axes>"
            ],
            "image/png": "[encoded data removed]"
          },
          "metadata": {
            "needs_background": "light"
          }
        },
        {
          "output_type": "stream",
          "name": "stdout",
          "text": [
            "('SOMA: 9.0', 'Produto: 20.0', 'X1: 5.0', 'X2: 4.0', 'X : 4.5', 'Y : -4.0')\n"
          ]
        }
      ],
      "source": [
        "\"\"\"Função de Secondo Grau\"\"\"\n",
        "\n",
        "import math\n",
        "import matplotlib.pyplot as plt\n",
        "\n",
        "class Function:\n",
        "    \"\"\"\n",
        "    Toodo calculo envolvido para chegar nos valores finais\n",
        "    \"\"\"\n",
        "    def __init__(self,a,b,c):\n",
        "        \"\"\"\n",
        "        Valores da Função quem é o a,b e c\n",
        "        \"\"\"\n",
        "        self.a = a\n",
        "        self.b = b\n",
        "        self.c = c\n",
        "\n",
        "    def _bhaskara(self):\n",
        "        \"\"\"\n",
        "        Chegar no valor de delta,x1 e x2\n",
        "        \"\"\"\n",
        "        self.delta = (-self.b * -self.b) -4 *self.a * self.c\n",
        "        print(f'delta = {self.delta}')\n",
        "        self.x1= (-self.b + math.sqrt(self.delta)) / (2 * self.a)\n",
        "        self.x2= (-self.b - math.sqrt(self.delta)) / (2 * self.a)\n",
        "    \n",
        "    def X_Y(self):\n",
        "        \"\"\"\n",
        "        Valores de x e y para montar no gráfico\n",
        "        \"\"\"\n",
        "        self.x = -self.b / 2 * self.a\n",
        "        self.y = (4 * self.a) / -self.delta \n",
        "\n",
        "    def values(self):\n",
        "        \"\"\"\n",
        "        Todos o valores como : Produto,Soma,x1,x,X e y sendo apresentados\n",
        "        \"\"\"\n",
        "        _sum = -self.b / self.a \n",
        "        self.product = self.c / self.a\n",
        "        self.resultado = (f'SOMA: {_sum}',\n",
        "        f'Produto: {self.product}',\n",
        "        f'X1: {self.x1}',\n",
        "        f'X2: {self.x2}',\n",
        "        f'X : {self.x}',\n",
        "        f'Y : {self.y}')\n",
        "        \n",
        "\n",
        "    def graph(self):\n",
        "        \"\"\"\n",
        "        Plotar o gráfico\n",
        "        \"\"\"\n",
        "        plt.plot(self.x,self.y,marker='o',color='black')\n",
        "        plt.bar(self.x,self.y,0,20)\n",
        "        plt.title(\"Grafico Função 2 º Grau\")\n",
        "        plt.xlabel('x')\n",
        "        plt.ylabel('y')\n",
        "        plt.show()\n",
        "        print(self.resultado)\n",
        "\n",
        "\n",
        "\"\"\"Executando o Algoritmo\"\"\"\n",
        "exercio = Function(1,-9,20)\n",
        "exercio._bhaskara()\n",
        "exercio.X_Y()\n",
        "exercio.values()\n",
        "exercio.graph()"
      ]
    },
    {
      "cell_type": "code",
      "source": [
        "\"\"\"Função de Secondo Grau\"\"\"\n",
        "\n",
        "\n",
        "import random\n",
        "import math\n",
        "import matplotlib.pyplot as plt\n",
        "\n",
        "class Function:\n",
        "  \"\"\"\n",
        "  Toodo calculo envolvido para chegar nos valores finais\n",
        "  \"\"\"\n",
        "  def __init__(self,a,b,c):\n",
        "    \"\"\"\n",
        "    Valores da Função quem é o a,b,c.\n",
        "    \"\"\"\n",
        "    self.a = a \n",
        "    self.b = b\n",
        "    self.c = c\n",
        "    self.x1 = 0 \n",
        "    self.x2 = 0\n",
        "\n",
        "  def delta_Product_Sum(self):\n",
        "    \"\"\"\n",
        "    Calcular o valor de Delta,Soma e Produto\n",
        "    \"\"\"\n",
        "    self.delta = (-self.b * -self.b) -4 * self.a * self.c\n",
        "    self.sum = -self.b / self.a\n",
        "    self.product = self.c / self.a\n",
        "\n",
        "  def Soma_Produto(self):\n",
        "    \"\"\"\n",
        "    Descobrindo os valor de x1 e x2 com Soma e Produto\n",
        "    \"\"\"\n",
        "    while self.x1 + self.x2 != self.sum or self.x1 * self.x2 != self.product:\n",
        "      self.x1 = random.randint(-self.sum,self.sum)\n",
        "      self.x2 = random.randint(-self.sum,self.sum)\n",
        "    self.x = -self.b / 2 * self.a\n",
        "    self.y = (4 * self.a) / -self.delta\n",
        "\n",
        "  def graph(self):\n",
        "    \"\"\"\n",
        "    Plotar o gráfico\n",
        "    \"\"\"\n",
        "    self.resultado = (f'SOMA: {self.sum}',\n",
        "        f'Produto: {self.product}',\n",
        "        f'X1: {self.x1}',\n",
        "        f'X2: {self.x2}',\n",
        "        f'X : {self.x}',\n",
        "        f'Y : {self.y}')\n",
        "    plt.plot(self.x,self.y,marker='o',color='black')\n",
        "    plt.bar(self.x,self.y,0,20)\n",
        "    plt.title(\"Grafico Função 2 º Grau\")\n",
        "    plt.xlabel('x')\n",
        "    plt.ylabel('y')\n",
        "    plt.show()\n",
        "    print(self.resultado)\n",
        "    \n",
        "  \n",
        "\"\"\"Executando o Algoritmo\"\"\"\n",
        "arroz = Function(1,-9,20)\n",
        "arroz.delta_Product_Sum()\n",
        "arroz.Soma_Produto()\n",
        "arroz.graph()"
      ],
      "metadata": {
        "colab": {
          "base_uri": "https://localhost:8080/",
          "height": 312
        },
        "id": "0RmnDazbeZcb",
        "outputId": "e6a1aaf3-0ad5-44df-8a6c-8f42e29124b6"
      },
      "execution_count": 2,
      "outputs": [
        {
          "output_type": "display_data",
          "data": {
            "text/plain": [
              "<Figure size 432x288 with 1 Axes>"
            ],
            "image/png": "[encoded data removed]"
          },
          "metadata": {
            "needs_background": "light"
          }
        },
        {
          "output_type": "stream",
          "name": "stdout",
          "text": [
            "('SOMA: 9.0', 'Produto: 20.0', 'X1: 5', 'X2: 4', 'X : 4.5', 'Y : -4.0')\n"
          ]
        }
      ]
    },
    {
      "cell_type": "code",
      "source": [
        ""
      ],
      "metadata": {
        "id": "mCmJ2WYVch4M"
      },
      "execution_count": null,
      "outputs": []
    }
  ]
}